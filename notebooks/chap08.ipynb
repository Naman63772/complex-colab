{
  "cells": [
    {
      "cell_type": "markdown",
      "metadata": {
        "id": "PAU5FPy8Eknx"
      },
      "source": [
        "# Game of Life\n",
        "\n",
        "Code examples from [Think Complexity, 2nd edition](https://thinkcomplex.com).\n",
        "\n",
        "Copyright 2016 Allen Downey, [MIT License](http://opensource.org/licenses/MIT)"
      ]
    },
    {
      "cell_type": "code",
      "execution_count": 1,
      "metadata": {
        "id": "GoKNIJ0mEknz",
        "outputId": "2a33f085-4361-4703-a947-24ab00504e56",
        "colab": {
          "base_uri": "https://localhost:8080/"
        }
      },
      "outputs": [
        {
          "output_type": "stream",
          "name": "stdout",
          "text": [
            "--2022-03-01 20:29:01--  https://raw.githubusercontent.com/AllenDowney/ThinkComplexity2/master/notebooks/utils.py\n",
            "Resolving raw.githubusercontent.com (raw.githubusercontent.com)... 185.199.108.133, 185.199.109.133, 185.199.110.133, ...\n",
            "Connecting to raw.githubusercontent.com (raw.githubusercontent.com)|185.199.108.133|:443... connected.\n",
            "HTTP request sent, awaiting response... 200 OK\n",
            "Length: 2645 (2.6K) [text/plain]\n",
            "Saving to: ‘utils.py’\n",
            "\n",
            "\rutils.py              0%[                    ]       0  --.-KB/s               \rutils.py            100%[===================>]   2.58K  --.-KB/s    in 0s      \n",
            "\n",
            "2022-03-01 20:29:01 (33.1 MB/s) - ‘utils.py’ saved [2645/2645]\n",
            "\n",
            "--2022-03-01 20:29:02--  https://raw.githubusercontent.com/pearcej/complex-colab/master/notebooks/Cell2D.py\n",
            "Resolving raw.githubusercontent.com (raw.githubusercontent.com)... 185.199.108.133, 185.199.111.133, 185.199.110.133, ...\n",
            "Connecting to raw.githubusercontent.com (raw.githubusercontent.com)|185.199.108.133|:443... connected.\n",
            "HTTP request sent, awaiting response... 200 OK\n",
            "Length: 2628 (2.6K) [text/plain]\n",
            "Saving to: ‘Cell2D.py’\n",
            "\n",
            "Cell2D.py           100%[===================>]   2.57K  --.-KB/s    in 0s      \n",
            "\n",
            "2022-03-01 20:29:02 (48.9 MB/s) - ‘Cell2D.py’ saved [2628/2628]\n",
            "\n"
          ]
        }
      ],
      "source": [
        "%matplotlib inline\n",
        "\n",
        "import os\n",
        "if not os.path.exists('utils.py'):\n",
        "  !wget https://raw.githubusercontent.com/AllenDowney/ThinkComplexity2/master/notebooks/utils.py\n",
        "if not os.path.exists('Cell2D.py'):\n",
        "  !wget  https://raw.githubusercontent.com/pearcej/complex-colab/master/notebooks/Cell2D.py\n",
        "\n",
        "import matplotlib.pyplot as plt\n",
        "import numpy as np\n",
        "import seaborn as sns\n",
        "\n"
      ]
    },
    {
      "cell_type": "markdown",
      "metadata": {
        "id": "OLfvK0q9Ekn0"
      },
      "source": [
        "## Game of Life entities\n",
        "\n"
      ]
    },
    {
      "cell_type": "code",
      "execution_count": 2,
      "metadata": {
        "id": "EVCQnDcDEkn1"
      },
      "outputs": [],
      "source": [
        "from scipy.signal import correlate2d\n",
        "from Cell2D import Cell2D\n",
        "\n",
        "class Life(Cell2D):\n",
        "    \"\"\"Implementation of Conway's Game of Life.\"\"\"\n",
        "    kernel = np.array([[1, 1, 1],\n",
        "                       [1,10, 1],\n",
        "                       [1, 1, 1]])\n",
        "\n",
        "    table = np.zeros(20, dtype=np.uint8)\n",
        "    table[[3, 12, 13]] = 1\n",
        "\n",
        "    def step(self):\n",
        "        \"\"\"Executes one time step.\"\"\"\n",
        "        c = correlate2d(self.array, self.kernel, mode='same')\n",
        "        self.array = self.table[c]"
      ]
    },
    {
      "cell_type": "markdown",
      "metadata": {
        "id": "rKo3FaG0Ekn1"
      },
      "source": [
        "The following function creates a `Life` object and sets the initial condition using strings of `0` and `1` characters."
      ]
    },
    {
      "cell_type": "code",
      "execution_count": 3,
      "metadata": {
        "id": "Bp_zshKoEkn2"
      },
      "outputs": [],
      "source": [
        "def make_life(n, m, row, col, *strings):\n",
        "    \"\"\"Makes a Life object.\n",
        "    \n",
        "    n, m: rows and columns of the Life array\n",
        "    row, col: upper left coordinate of the cells to be added\n",
        "    strings: list of strings of '0' and '1'\n",
        "    \"\"\"\n",
        "    life = Life(n, m)\n",
        "    life.add_cells(row, col, *strings)\n",
        "    return life"
      ]
    },
    {
      "cell_type": "markdown",
      "metadata": {
        "id": "Y47uG2zyEkn2"
      },
      "source": [
        "A beehive is a stable entity, also called a \"still life\""
      ]
    },
    {
      "cell_type": "code",
      "execution_count": 4,
      "metadata": {
        "id": "xH0a2T6uEkn3",
        "outputId": "bfe43dbf-a8ec-4107-8cde-e9e254d375c5",
        "colab": {
          "base_uri": "https://localhost:8080/",
          "height": 252
        }
      },
      "outputs": [
        {
          "output_type": "display_data",
          "data": {
            "image/png": "[encoded data removed]",
            "text/plain": [
              "<Figure size 432x288 with 1 Axes>"
            ]
          },
          "metadata": {}
        }
      ],
      "source": [
        "# beehive\n",
        "life = make_life(3, 4, 0, 0, '0110', '1001', '0110')\n",
        "life.draw()\n",
        "plt.show('figs/chap06-1')"
      ]
    },
    {
      "cell_type": "markdown",
      "metadata": {
        "id": "chnghXD0Ekn3"
      },
      "source": [
        "Here's what it looks like after one step:"
      ]
    },
    {
      "cell_type": "code",
      "execution_count": 5,
      "metadata": {
        "id": "9yxoMcvKEkn4",
        "outputId": "257181f1-77fe-4037-a6f3-d7d660978299",
        "colab": {
          "base_uri": "https://localhost:8080/",
          "height": 252
        }
      },
      "outputs": [
        {
          "output_type": "display_data",
          "data": {
            "image/png": "[encoded data removed]",
            "text/plain": [
              "<Figure size 432x288 with 1 Axes>"
            ]
          },
          "metadata": {}
        }
      ],
      "source": [
        "life.step()\n",
        "life.draw()"
      ]
    },
    {
      "cell_type": "markdown",
      "metadata": {
        "id": "OaHfgE85Ekn5"
      },
      "source": [
        "A toad is an oscillator with period 2.  Here's are its two configurations:"
      ]
    },
    {
      "cell_type": "code",
      "execution_count": 6,
      "metadata": {
        "id": "qULuwmHoEkn6",
        "outputId": "03e3941d-305f-43b2-9588-5d2023b659f3",
        "colab": {
          "base_uri": "https://localhost:8080/",
          "height": 288
        }
      },
      "outputs": [
        {
          "output_type": "display_data",
          "data": {
            "image/png": "[encoded data removed]",
            "text/plain": [
              "<Figure size 720x360 with 2 Axes>"
            ]
          },
          "metadata": {}
        }
      ],
      "source": [
        "# toad\n",
        "plt.figure(figsize=(10, 5))\n",
        "plt.subplot(1, 2, 1)\n",
        "life = make_life(4, 4, 1, 0, '0111', '1110')\n",
        "life.draw()\n",
        "\n",
        "plt.subplot(1, 2, 2)\n",
        "life.step()\n",
        "life.draw()\n",
        "\n",
        "plt.show('figs/chap06-2')"
      ]
    },
    {
      "cell_type": "markdown",
      "metadata": {
        "id": "CN0qHqo5Ekn6"
      },
      "source": [
        "Here's what the toad looks like as an animation."
      ]
    },
    {
      "cell_type": "code",
      "execution_count": 7,
      "metadata": {
        "id": "W1WX54x2Ekn6",
        "outputId": "da6e5116-b850-4793-cc45-9911a10cc0c4",
        "colab": {
          "base_uri": "https://localhost:8080/",
          "height": 252
        }
      },
      "outputs": [
        {
          "output_type": "display_data",
          "data": {
            "image/png": "[encoded data removed]",
            "text/plain": [
              "<Figure size 432x288 with 1 Axes>"
            ]
          },
          "metadata": {}
        }
      ],
      "source": [
        "life = make_life(4, 4, 1, 0, '0111', '1110')\n",
        "life.animate(10, 0.5)"
      ]
    },
    {
      "cell_type": "markdown",
      "metadata": {
        "id": "giyD6De_Ekn7"
      },
      "source": [
        "A glider is a spaceship that translates one unit down and to the right with period 4. "
      ]
    },
    {
      "cell_type": "code",
      "execution_count": 8,
      "metadata": {
        "id": "3VE212avEkn7",
        "outputId": "ce1be722-16aa-44ac-f6ac-563d6b3aea96",
        "colab": {
          "base_uri": "https://localhost:8080/",
          "height": 150
        }
      },
      "outputs": [
        {
          "output_type": "display_data",
          "data": {
            "image/png": "[encoded data removed]",
            "text/plain": [
              "<Figure size 864x288 with 5 Axes>"
            ]
          },
          "metadata": {}
        }
      ],
      "source": [
        "# glider\n",
        "plt.figure(figsize=(12, 4))\n",
        "\n",
        "glider = ['010', '001', '111']\n",
        "life = make_life(4, 4, 0, 0, *glider)\n",
        "\n",
        "for i in range(1, 6):\n",
        "    plt.subplot(1, 5, i)\n",
        "    life.draw()\n",
        "    life.step()\n",
        "    \n",
        "plt.show('figs/chap06-3')"
      ]
    },
    {
      "cell_type": "markdown",
      "metadata": {
        "id": "E3CyBQWsEkn7"
      },
      "source": [
        "Here's an animation showing glider movement."
      ]
    },
    {
      "cell_type": "code",
      "execution_count": 9,
      "metadata": {
        "id": "qpmC3FfKEkn9",
        "outputId": "128cab41-04fe-4f61-a2f7-12f8f68679b5",
        "colab": {
          "base_uri": "https://localhost:8080/",
          "height": 252
        }
      },
      "outputs": [
        {
          "output_type": "display_data",
          "data": {
            "image/png": "[encoded data removed]",
            "text/plain": [
              "<Figure size 432x288 with 1 Axes>"
            ]
          },
          "metadata": {}
        }
      ],
      "source": [
        "life = make_life(10, 10, 0, 0, '010', '001', '111')\n",
        "life.animate(frames=28, interval=0.2)"
      ]
    },
    {
      "cell_type": "markdown",
      "metadata": {
        "id": "6YsK-cy6Ekn9"
      },
      "source": [
        "**Exercise:** If you start GoL from a random configuration, it usually runs chaotically for a while and then settles into stable patterns that include blinkers, blocks, and beehives, ships, boats, and loaves.\n",
        "\n",
        "Start GoL in a random state and run it until it stabilizes (try 1000 steps).\n",
        "What stable patterns can you identify?\n",
        "\n",
        "Hint: use `np.random.randint`."
      ]
    },
    {
      "cell_type": "code",
      "execution_count": 10,
      "metadata": {
        "id": "ufDnIlImEkn9"
      },
      "outputs": [],
      "source": [
        "# Solution goes here"
      ]
    },
    {
      "cell_type": "markdown",
      "metadata": {
        "id": "SyuxkE52Ekn9"
      },
      "source": [
        "### Methuselas\n",
        "\n",
        "Most initial conditions run for a short time and reach a steady state.  But some initial conditional run for a surprisingly long time; they are called Methuselahs.\n",
        "\n",
        "The r-pentomino starts with only five live cells, but it runs for 1103 steps before stabilizing."
      ]
    },
    {
      "cell_type": "code",
      "execution_count": 11,
      "metadata": {
        "id": "zx80pZpFEkn-",
        "outputId": "fd2ee35c-f3ac-4a28-c282-953c2be1d4cd",
        "colab": {
          "base_uri": "https://localhost:8080/",
          "height": 0
        }
      },
      "outputs": [
        {
          "output_type": "display_data",
          "data": {
            "image/png": "[encoded data removed]",
            "text/plain": [
              "<Figure size 432x288 with 1 Axes>"
            ]
          },
          "metadata": {}
        }
      ],
      "source": [
        "# r pentomino\n",
        "rpent = ['011', '110', '010']\n",
        "life = make_life(3, 3, 0, 0, *rpent)\n",
        "life.draw()"
      ]
    },
    {
      "cell_type": "markdown",
      "metadata": {
        "id": "kokGgYO0Ekn-"
      },
      "source": [
        "Here are the start and finish configurations."
      ]
    },
    {
      "cell_type": "code",
      "execution_count": 12,
      "metadata": {
        "id": "v-vQuoWOEkn-",
        "outputId": "62fcfacb-82c0-4817-8e7a-3ee6e1e09451",
        "colab": {
          "base_uri": "https://localhost:8080/",
          "height": 0
        }
      },
      "outputs": [
        {
          "output_type": "display_data",
          "data": {
            "image/png": "[encoded data removed]",
            "text/plain": [
              "<Figure size 720x360 with 2 Axes>"
            ]
          },
          "metadata": {}
        }
      ],
      "source": [
        "# r pentomino\n",
        "plt.figure(figsize=(10, 5))\n",
        "plt.subplot(1, 2, 1)\n",
        "life = make_life(120, 120, 50, 45, *rpent)\n",
        "life.draw()\n",
        "\n",
        "for i in range(1103):\n",
        "    life.step()\n",
        "\n",
        "plt.subplot(1, 2, 2)\n",
        "life.draw()\n",
        "\n",
        "plt.show('figs/chap06-4')"
      ]
    },
    {
      "cell_type": "markdown",
      "metadata": {
        "id": "J_5Pm6qwEkn_"
      },
      "source": [
        "And here's the animation that shows the steps."
      ]
    },
    {
      "cell_type": "code",
      "execution_count": null,
      "metadata": {
        "id": "hbmGV9SDEkn_",
        "outputId": "1b87747a-7c5e-456e-a723-0d3a3e3ca0d6",
        "colab": {
          "base_uri": "https://localhost:8080/",
          "height": 0
        }
      },
      "outputs": [
        {
          "output_type": "display_data",
          "data": {
            "image/png": "[encoded data removed]",
            "text/plain": [
              "<Figure size 432x288 with 1 Axes>"
            ]
          },
          "metadata": {}
        }
      ],
      "source": [
        "life = make_life(120, 120, 50, 45, *rpent)\n",
        "life.animate(frames=1200)"
      ]
    },
    {
      "cell_type": "markdown",
      "metadata": {
        "id": "gbnKSdufEkn_"
      },
      "source": [
        "### Conway's conjecture"
      ]
    },
    {
      "cell_type": "markdown",
      "metadata": {
        "id": "O9b1NcFtEkoA"
      },
      "source": [
        "Most initial conditions run for a short time and reach a steady state.  Some, like the r-pentomino, run for a long time before they reach steady state.  Another example is rabbits, which starts with only nine cells and runs 17331 steps before reaching steady state.\n",
        "\n",
        "To run my implementation of rabbits, open a terminal in `ThinkComplexity2/code` and run\n",
        "\n",
        "```\n",
        "python LifeRabbits.py\n",
        "```\n",
        "\n",
        "Patterns that take a long time to reach steady state are called Methuselahs.\n",
        "\n",
        "Patterns like these prompted Conway's conjecture, which asks whether there are any initial conditions where the number of live cells is unbounded."
      ]
    },
    {
      "cell_type": "markdown",
      "metadata": {
        "id": "UYVmJGFKEkoA"
      },
      "source": [
        "Gosper's glider gun was the first entity to be discovered that produces an unbounded number of live cells, which refutes Conway's conjecture."
      ]
    },
    {
      "cell_type": "code",
      "execution_count": null,
      "metadata": {
        "id": "YmcV_fhUEkoA"
      },
      "outputs": [],
      "source": [
        "glider_gun = [\n",
        "    '000000000000000000000000100000000000',\n",
        "    '000000000000000000000010100000000000',\n",
        "    '000000000000110000001100000000000011',\n",
        "    '000000000001000100001100000000000011',\n",
        "    '110000000010000010001100000000000000',\n",
        "    '110000000010001011000010100000000000',\n",
        "    '000000000010000010000000100000000000',\n",
        "    '000000000001000100000000000000000000',\n",
        "    '000000000000110000000000000000000000'\n",
        "]"
      ]
    },
    {
      "cell_type": "markdown",
      "metadata": {
        "id": "I3r9NM80EkoA"
      },
      "source": [
        "Here's the initial configuration:"
      ]
    },
    {
      "cell_type": "code",
      "execution_count": null,
      "metadata": {
        "id": "kTB5cXVPEkoB"
      },
      "outputs": [],
      "source": [
        "life = make_life(11, 38, 1, 1, *glider_gun)\n",
        "life.draw()\n",
        "\n",
        "plt.show('figs/chap06-5')"
      ]
    },
    {
      "cell_type": "markdown",
      "metadata": {
        "id": "8P0-nX53EkoB"
      },
      "source": [
        "And here's what it looks like running:"
      ]
    },
    {
      "cell_type": "code",
      "execution_count": null,
      "metadata": {
        "id": "717Kts9REkoB"
      },
      "outputs": [],
      "source": [
        "life = make_life(50, 50, 2, 2, *glider_gun)\n",
        "life.animate(frames=200)"
      ]
    },
    {
      "cell_type": "markdown",
      "metadata": {
        "id": "_DMehS6YEkoC"
      },
      "source": [
        "**Puffer train**\n",
        "\n",
        "Another way to \"refute\" Conway's conjecture is a puffer train.\n",
        "\n",
        "To see a puffer train run, open a terminal and run\n",
        "\n",
        "```\n",
        "python LifePuffer.py\n",
        "```"
      ]
    },
    {
      "cell_type": "markdown",
      "metadata": {
        "id": "k2_8kjLFEkoC"
      },
      "source": [
        "### Implementing Game of Life\n",
        "\n",
        "As an example, I'll start with an array of random cells:"
      ]
    },
    {
      "cell_type": "code",
      "execution_count": null,
      "metadata": {
        "tags": [],
        "id": "_TvaFy5DEkoC"
      },
      "outputs": [],
      "source": [
        "a = np.random.randint(2, size=(10, 10), dtype=np.uint8)\n",
        "print(a)"
      ]
    },
    {
      "cell_type": "markdown",
      "metadata": {
        "id": "aYUf2HmlEkoC"
      },
      "source": [
        "The following is a straightforward translation of the GoL rules using `for` loops and array slicing."
      ]
    },
    {
      "cell_type": "code",
      "execution_count": null,
      "metadata": {
        "tags": [],
        "id": "joNSLcbFEkoC"
      },
      "outputs": [],
      "source": [
        "b = np.zeros_like(a)\n",
        "rows, cols = a.shape\n",
        "for i in range(1, rows-1):\n",
        "    for j in range(1, cols-1):\n",
        "        state = a[i, j]\n",
        "        neighbors = a[i-1:i+2, j-1:j+2]\n",
        "        k = np.sum(neighbors) - state\n",
        "        if state:\n",
        "            if k==2 or k==3:\n",
        "                b[i, j] = 1\n",
        "        else:\n",
        "            if k == 3:\n",
        "                b[i, j] = 1\n",
        "\n",
        "print(b)"
      ]
    },
    {
      "cell_type": "markdown",
      "metadata": {
        "id": "Wcf5_CHjEkoD"
      },
      "source": [
        "Here's a smaller, faster version using cross correlation."
      ]
    },
    {
      "cell_type": "code",
      "execution_count": null,
      "metadata": {
        "tags": [],
        "id": "iYHKSfbXEkoD"
      },
      "outputs": [],
      "source": [
        "from scipy.signal import correlate2d\n",
        "\n",
        "kernel = np.array([[1, 1, 1],\n",
        "                   [1, 0, 1],\n",
        "                   [1, 1, 1]])\n",
        "\n",
        "c = correlate2d(a, kernel, mode='same')\n",
        "b = (c==3) | (c==2) & a\n",
        "b = b.astype(np.uint8)\n",
        "print(b)"
      ]
    },
    {
      "cell_type": "markdown",
      "metadata": {
        "id": "WP0h2ZskEkoD"
      },
      "source": [
        "Using a kernel that gives a weight of 10 to the center cell, we can simplify the logic a little."
      ]
    },
    {
      "cell_type": "code",
      "execution_count": null,
      "metadata": {
        "tags": [],
        "id": "jA2BDM1DEkoD"
      },
      "outputs": [],
      "source": [
        "kernel = np.array([[1, 1, 1],\n",
        "                   [1,10, 1],\n",
        "                   [1, 1, 1]])\n",
        "\n",
        "c = correlate2d(a, kernel, mode='same')\n",
        "b = (c==3) | (c==12) | (c==13)\n",
        "b = b.astype(np.uint8)\n",
        "print(b)"
      ]
    },
    {
      "cell_type": "markdown",
      "metadata": {
        "id": "xaEoOVttEkoE"
      },
      "source": [
        "More importantly, the second version of the kernel makes it possible to use a look up table to get the next state, which is faster and even more concise."
      ]
    },
    {
      "cell_type": "code",
      "execution_count": null,
      "metadata": {
        "tags": [],
        "id": "vO_u__bhEkoE"
      },
      "outputs": [],
      "source": [
        "table = np.zeros(20, dtype=np.uint8)\n",
        "table[[3, 12, 13]] = 1\n",
        "c = correlate2d(a, kernel, mode='same')\n",
        "b = table[c]\n",
        "print(b)"
      ]
    },
    {
      "cell_type": "markdown",
      "metadata": {
        "id": "RHs9xSd-EkoE"
      },
      "source": [
        "**Exercise:** Many Game of Life patterns are available in portable file formats.\n",
        "\n",
        "Write a function to parse one of these formats and initialize the array."
      ]
    },
    {
      "cell_type": "code",
      "execution_count": null,
      "metadata": {
        "id": "XQXFRosUEkoE"
      },
      "outputs": [],
      "source": [
        "# Solution goes here"
      ]
    },
    {
      "cell_type": "code",
      "execution_count": null,
      "metadata": {
        "id": "bctIQNQLEkoE"
      },
      "outputs": [],
      "source": [
        "# Solution goes here"
      ]
    },
    {
      "cell_type": "code",
      "execution_count": null,
      "metadata": {
        "id": "etSZMgGjEkoF"
      },
      "outputs": [],
      "source": [
        "life.draw()"
      ]
    },
    {
      "cell_type": "code",
      "execution_count": null,
      "metadata": {
        "id": "TXDZVlA7EkoF"
      },
      "outputs": [],
      "source": [
        "# Solution goes here"
      ]
    },
    {
      "cell_type": "markdown",
      "metadata": {
        "id": "cym5IbGrEkoG"
      },
      "source": [
        "### Highlife\n",
        "\n",
        "One variation of GoL, called \"Highlife\", has the\n",
        "same rules as GoL, plus one additional rule: a dead cell with 6\n",
        "neighbors comes to life.\n",
        "\n",
        "You can try out different rules by inheriting from `Life` and changing the lookup table.\n",
        "\n",
        "**Exercise:** Modify the table below to add the new rule."
      ]
    },
    {
      "cell_type": "code",
      "execution_count": null,
      "metadata": {
        "id": "_qay-kPmEkoG"
      },
      "outputs": [],
      "source": [
        "# Starter code\n",
        "\n",
        "class MyLife(Life):\n",
        "    \"\"\"Implementation of Life.\"\"\"\n",
        "\n",
        "    table = np.zeros(20, dtype=np.uint8)\n",
        "    table[[3, 12, 13]] = 1"
      ]
    },
    {
      "cell_type": "markdown",
      "metadata": {
        "id": "PEoBCCEQEkoG"
      },
      "source": [
        "One of the more interesting patterns in Highlife is the replicator, which has the following initial configuration.\n"
      ]
    },
    {
      "cell_type": "code",
      "execution_count": null,
      "metadata": {
        "id": "rMM0R3KhEkoG"
      },
      "outputs": [],
      "source": [
        "replicator = [\n",
        "    '00111',\n",
        "    '01001',\n",
        "    '10001',\n",
        "    '10010',\n",
        "    '11100'\n",
        "]"
      ]
    },
    {
      "cell_type": "markdown",
      "metadata": {
        "id": "AbYMV7YqEkoG"
      },
      "source": [
        "Make a `MyLife` object with `n=100` and use `add_cells` to put a replicator near the middle.\n",
        "\n",
        "Make an animation with about 200 frames and see how it behaves."
      ]
    },
    {
      "cell_type": "code",
      "execution_count": null,
      "metadata": {
        "id": "5sn6P4VgEkoH"
      },
      "outputs": [],
      "source": [
        "# Solution goes here"
      ]
    },
    {
      "cell_type": "code",
      "source": [
        ""
      ],
      "metadata": {
        "id": "6ZWJ1TtRJnCQ"
      },
      "execution_count": null,
      "outputs": []
    },
    {
      "cell_type": "markdown",
      "metadata": {
        "id": "vaAjOguEEkoH"
      },
      "source": [
        "**Exercise:** \n",
        "\n",
        "If you generalize the Turing machine to two dimensions, or\n",
        "add a read-write head to a 2-D CA, the result is a\n",
        "cellular automaton called a Turmite.  It is named after a\n",
        "termite because of the way the read-write head moves, but\n",
        "spelled wrong as an homage to Alan Turing.\n",
        "\n",
        "The most famous Turmite is Langton's Ant, discovered by Chris Langton\n",
        "in 1986.  \n",
        "\n",
        "The ant is a read-write head with\n",
        "four states, which you can think of as facing north, south,\n",
        "east or west.  The cells have two states, black and white.\n",
        "\n",
        "The rules are simple.  During each time step, the ant checks the color\n",
        "of the cell it is on.  If black, the ant turns to the right,\n",
        "changes the cell to white, and moves forward one space.  If the cell\n",
        "is white, the ant turns left, changes the cell to black, and moves\n",
        "forward.\n",
        "\n",
        "Given a simple world, a simple set of rules, and only one moving part,\n",
        "you might expect to see simple behavior---but you should know\n",
        "better by now.  Starting with all white cells, Langton's ant\n",
        "moves in a seemingly random pattern for more than 10 000 steps\n",
        "before it enters a cycle with a period of 104 steps.  After\n",
        "each cycle, the ant is translated diagonally, so it leaves\n",
        "a trail called the \"highway\".\n",
        "\n",
        "Write an implementation of Langton's Ant."
      ]
    },
    {
      "cell_type": "code",
      "execution_count": null,
      "metadata": {
        "id": "-wqEjqcKEkoH"
      },
      "outputs": [],
      "source": [
        "# Solution goes here"
      ]
    },
    {
      "cell_type": "code",
      "execution_count": null,
      "metadata": {
        "id": "CkmLIS1oEkoH"
      },
      "outputs": [],
      "source": [
        "n = 5\n",
        "turmite = Turmite(n)\n",
        "turmite.draw()"
      ]
    },
    {
      "cell_type": "code",
      "execution_count": null,
      "metadata": {
        "id": "BHYRdcoiEkoH"
      },
      "outputs": [],
      "source": [
        "turmite.step()\n",
        "turmite.draw()"
      ]
    },
    {
      "cell_type": "code",
      "execution_count": null,
      "metadata": {
        "id": "PMPVEm4OEkoI"
      },
      "outputs": [],
      "source": [
        "# Solution goes here"
      ]
    },
    {
      "cell_type": "code",
      "execution_count": null,
      "metadata": {
        "id": "skatoJG1EkoI"
      },
      "outputs": [],
      "source": [
        "# And a larger version with 1000 steps\n",
        "\n",
        "turmite = Turmite(n=30)\n",
        "anim = turmite.animate(frames=1000)"
      ]
    },
    {
      "cell_type": "code",
      "execution_count": null,
      "metadata": {
        "id": "j0EJ1Gt3EkoI"
      },
      "outputs": [],
      "source": [
        "# Solution goes here"
      ]
    }
  ],
  "metadata": {
    "kernelspec": {
      "display_name": "Python 3.8.3 32-bit",
      "language": "python",
      "name": "python_defaultSpec_1593789852346"
    },
    "language_info": {
      "codemirror_mode": {
        "name": "ipython",
        "version": 3
      },
      "file_extension": ".py",
      "mimetype": "text/x-python",
      "name": "python",
      "nbconvert_exporter": "python",
      "pygments_lexer": "ipython3",
      "version": "3.7.3"
    },
    "colab": {
      "name": "chap08.ipynb",
      "provenance": []
    }
  },
  "nbformat": 4,
  "nbformat_minor": 0
}